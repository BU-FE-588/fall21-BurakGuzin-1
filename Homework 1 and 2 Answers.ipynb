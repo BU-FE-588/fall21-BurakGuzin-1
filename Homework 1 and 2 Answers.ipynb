{
 "cells": [
  {
   "cell_type": "markdown",
   "metadata": {},
   "source": [
    "# Homework 1 and 2 due November 23$^{th}$, 2021\n",
    "\n",
    "The aim of this homework is to practive the concepts of basic data structures, control flows and loops in Python. You are expected to use GitHub Classroom and present your work as an html file (i.e. web page) on your progress journals. You can use this jupyter notebook as template to provide your answers."
   ]
  },
  {
   "cell_type": "markdown",
   "metadata": {},
   "source": [
    "## Task 1\n",
    "Implement a Python program to input two numbers and perform all arithmetic operations. You are expected to find the sum, difference, product, quotient and remainder of two given numbers.\n",
    "\n",
    "\n"
   ]
  },
  {
   "cell_type": "code",
   "execution_count": 9,
   "metadata": {},
   "outputs": [
    {
     "name": "stdin",
     "output_type": "stream",
     "text": [
      "First Number:  120\n",
      "Second Number:  9\n"
     ]
    },
    {
     "name": "stdout",
     "output_type": "stream",
     "text": [
      "Sum is: 129\n",
      "Difference is: 111\n",
      "Product is: 1080\n",
      "Quotient is 13\n",
      "remainder is 3\n"
     ]
    }
   ],
   "source": [
    "Number1 = int(input(\"First Number: \"))\n",
    "Number2 = int(input(\"Second Number: \"))\n",
    "Sum = str(Number1 + Number2)\n",
    "Dif = str(Number1 - Number2)\n",
    "Prod = str(Number1 * Number2)\n",
    "Quo = str(Number1 // Number2)\n",
    "Rem = str(Number1-((Number1 // Number2) * Number2))\n",
    "print(\"Sum is: \" + Sum)\n",
    "print(\"Difference is: \" + Dif)\n",
    "print(\"Product is: \" + Prod)\n",
    "print(\"Quotient is \" + Quo)\n",
    "print(\"remainder is \" + Rem)\n"
   ]
  },
  {
   "cell_type": "markdown",
   "metadata": {},
   "source": [
    "## Task 2\n",
    "Implement a Python program to input length and width of a rectangle and find area of the given rectangle. "
   ]
  },
  {
   "cell_type": "code",
   "execution_count": null,
   "metadata": {},
   "outputs": [
    {
     "name": "stdin",
     "output_type": "stream",
     "text": [
      "Length of Rectangle:  2\n",
      "Width of Rectangle:  3\n"
     ]
    },
    {
     "name": "stdout",
     "output_type": "stream",
     "text": [
      "Area is: 6\n"
     ]
    }
   ],
   "source": [
    "x = int(input(\"Length of Rectangle: \"))\n",
    "y = int(input(\"Width of Rectangle: \"))\n",
    "Area = str(x*y)\n",
    "print(\"Area is: \" + Area)"
   ]
  },
  {
   "cell_type": "markdown",
   "metadata": {
    "tags": []
   },
   "source": [
    "## Task 3\n",
    "Implement a Python program to input any decimal number from user and convert it to binary number system (i.e. base-2 number system)"
   ]
  },
  {
   "cell_type": "code",
   "execution_count": 14,
   "metadata": {},
   "outputs": [
    {
     "name": "stdin",
     "output_type": "stream",
     "text": [
      "Decimal Number to convert binary:  20\n"
     ]
    },
    {
     "name": "stdout",
     "output_type": "stream",
     "text": [
      "0b10100\n"
     ]
    }
   ],
   "source": [
    "x= int(input(\"Decimal Number to convert binary: \"))\n",
    "print(bin(x))\n"
   ]
  },
  {
   "cell_type": "markdown",
   "metadata": {
    "tags": []
   },
   "source": [
    "## Task 4\n",
    "Implement a Python program to input a number and check whether number is even or odd using if/else statements.\n",
    "\n",
    "Example:\n",
    "Input <br>\n",
    "Input num: 25 <br>\n",
    "Output <br>\n",
    "25 is odd."
   ]
  },
  {
   "cell_type": "code",
   "execution_count": 22,
   "metadata": {},
   "outputs": [
    {
     "name": "stdin",
     "output_type": "stream",
     "text": [
      "Input a number:  4\n"
     ]
    },
    {
     "name": "stdout",
     "output_type": "stream",
     "text": [
      "Number is even\n"
     ]
    }
   ],
   "source": [
    "x = int(input(\"Input a number: \"))\n",
    "if x % 2 == 0:\n",
    "    print(\"Number is even\")\n",
    "else:\n",
    "    print(\"Number is odd\")\n",
    "    \n"
   ]
  },
  {
   "cell_type": "markdown",
   "metadata": {},
   "source": [
    "## Task 5\n",
    "Implement a Python program to check if input year is a leap year using if/else statements."
   ]
  },
  {
   "cell_type": "code",
   "execution_count": 26,
   "metadata": {},
   "outputs": [
    {
     "name": "stdin",
     "output_type": "stream",
     "text": [
      "Input a year to check if it is a leap year:  1700\n"
     ]
    },
    {
     "name": "stdout",
     "output_type": "stream",
     "text": [
      "Year is not a leap year\n"
     ]
    }
   ],
   "source": [
    "x = int(input(\"Input a year to check if it is a leap year: \"))\n",
    "if ((x % 400 == 0) or \n",
    "   (x % 100 != 0) \n",
    "and (x % 4 == 0)):\n",
    "    print(\"Year is a leap year\")\n",
    "else:\n",
    "    print(\"Year is not a leap year\")\n",
    "    "
   ]
  },
  {
   "cell_type": "markdown",
   "metadata": {
    "tags": []
   },
   "source": [
    "## Task 6\n",
    "Implement a Python program to print all natural numbers from 1 to n using loop."
   ]
  },
  {
   "cell_type": "code",
   "execution_count": 30,
   "metadata": {},
   "outputs": [
    {
     "name": "stdin",
     "output_type": "stream",
     "text": [
      "Please Enter a Number:  5\n"
     ]
    },
    {
     "name": "stdout",
     "output_type": "stream",
     "text": [
      "1  2  3  4  5  "
     ]
    }
   ],
   "source": [
    "x = int(input(\"Please Enter a Number: \"))\n",
    "for i in range(1, x + 1):\n",
    "    print (i, end = '  ')"
   ]
  },
  {
   "cell_type": "markdown",
   "metadata": {
    "tags": []
   },
   "source": [
    "## Task 7\n",
    "Implement a Python program to input a number from user and swap first and last digit of the given number. This task is easy to perform when input is transformed to a string. However, the aim here is to make use of mathematical operations to perform the swapping operation. One way to perform this task is to divide the input number by 10 until you are left with the first digit. The remainder from the first division is the last digit. Note that there are alternative approaches to perform the same task."
   ]
  },
  {
   "cell_type": "code",
   "execution_count": 5,
   "metadata": {},
   "outputs": [
    {
     "name": "stdin",
     "output_type": "stream",
     "text": [
      "Please enter a number:  123456\n"
     ]
    },
    {
     "name": "stdout",
     "output_type": "stream",
     "text": [
      "623451\n"
     ]
    }
   ],
   "source": [
    "x = input(\"Please enter a number: \")\n",
    "String = (x[1:len(x)-1])\n",
    "print (x[len(x)-1]+String+x[0])\n"
   ]
  },
  {
   "cell_type": "markdown",
   "metadata": {},
   "source": [
    "## Task 8\n",
    "Implement a Python program to input any number from user and find cube of the given number using function. "
   ]
  },
  {
   "cell_type": "code",
   "execution_count": 20,
   "metadata": {},
   "outputs": [
    {
     "name": "stdin",
     "output_type": "stream",
     "text": [
      "Please enter a number:  3\n"
     ]
    },
    {
     "name": "stdout",
     "output_type": "stream",
     "text": [
      "27\n"
     ]
    }
   ],
   "source": [
    "\n",
    "x = int(input(\"Please enter a number: \"))\n",
    "def my_function(y):\n",
    "    print (y*y*y)\n",
    "\n",
    "my_function(x)    \n",
    "  "
   ]
  },
  {
   "cell_type": "markdown",
   "metadata": {
    "tags": []
   },
   "source": [
    "## Task 9\n",
    "Write a function to find prime numbers between two integers (i.e. lower and upper bound). Note that you need to control if provided bounds are positive (at least upper bound should be some positive number) and upper bound is larger than provided lower bound."
   ]
  },
  {
   "cell_type": "code",
   "execution_count": 27,
   "metadata": {},
   "outputs": [
    {
     "name": "stdin",
     "output_type": "stream",
     "text": [
      "Please enter a positive number for Lower Bound:  1\n",
      "Please enter another positive number for Upper Bound:  10\n"
     ]
    },
    {
     "name": "stdout",
     "output_type": "stream",
     "text": [
      "2\n",
      "3\n",
      "5\n",
      "7\n"
     ]
    }
   ],
   "source": [
    "x = int(input(\"Please enter a positive number for Lower Bound: \"))\n",
    "y = int(input(\"Please enter another positive number for Upper Bound: \"))\n",
    "\n",
    "for num in range (x, y+1):\n",
    "    if num > 1: \n",
    "        for i in range (2, num):\n",
    "            if (num % i) == 0:\n",
    "                break\n",
    "        else: \n",
    "            print(num)\n",
    "    "
   ]
  },
  {
   "cell_type": "markdown",
   "metadata": {},
   "source": [
    "## Task 10\n",
    "Implement a Python program that takes a list with numerical elements and find the sum of list elements."
   ]
  },
  {
   "cell_type": "code",
   "execution_count": 2,
   "metadata": {},
   "outputs": [
    {
     "name": "stdout",
     "output_type": "stream",
     "text": [
      "sum of the list is:  36\n"
     ]
    }
   ],
   "source": [
    "x = [1,2,3,4,5,6,7,8]\n",
    "sumlist = sum(x)\n",
    "print(\"sum of the list is: \", sumlist)"
   ]
  },
  {
   "cell_type": "markdown",
   "metadata": {
    "tags": []
   },
   "source": [
    "## Task 11\n",
    "Implement a Python program that takes an integer list and find frequency of each element in list. There are built-in functions to perform this task in Python however you are expected perform this task using loops. Example:\n",
    "\n",
    "\n",
    "Input\n",
    "Input array elements: 4, 9, 9, 5, 100, 1, 2, 1, 2\n",
    "\n",
    "Output <br>\n",
    "Frequency of 4 = 1  <br>\n",
    "Frequency of 9 = 2  <br>\n",
    "Frequency of 5 = 1  <br>\n",
    "Frequency of 100 = 1  <br>\n",
    "Frequency of 1 = 2  <br>\n",
    "Frequency of 2 = 2  <br>"
   ]
  },
  {
   "cell_type": "code",
   "execution_count": 26,
   "metadata": {},
   "outputs": [
    {
     "name": "stdout",
     "output_type": "stream",
     "text": [
      "Frequency of 4 = 1\n",
      "Frequency of 9 = 2\n",
      "Frequency of 5 = 1\n",
      "Frequency of 100 = 1\n",
      "Frequency of 1 = 2\n",
      "Frequency of 2 = 2\n"
     ]
    }
   ],
   "source": [
    "def frequency(x:list):\n",
    "    r={}\n",
    "    for i in x:\n",
    "        if i in r:\n",
    "            r[i]=r[i]+1\n",
    "        else:\n",
    "            r[i]=1\n",
    "    for i in r:\n",
    "        print(\"Frequency of\",i,\"=\",r[i])\n",
    "        \n",
    "frequency([4, 9, 9, 5, 100, 1, 2, 1, 2])\n"
   ]
  },
  {
   "cell_type": "markdown",
   "metadata": {},
   "source": [
    "## Task 12\n",
    "Implement a Python program that reads the side (side sizes between 1 and 5 ) of a square and prints square using hash (#) character.\n",
    "\n",
    "Input: 5\n",
    "Sample Output: <br>\n",
    "Input the size of the square:  <br>\n",
    " $ # # # # # $ <br>\n",
    " $ # # # # # $ <br>\n",
    " $ # # # # # $ <br>\n",
    " $ # # # # # $ <br>\n",
    " $ # # # # # $ <br>"
   ]
  },
  {
   "cell_type": "code",
   "execution_count": 7,
   "metadata": {},
   "outputs": [],
   "source": [
    "def prsq(side:int):\n",
    "    for i in range(side):\n",
    "        for k in range(side):\n",
    "            print(f\"#\", end = '')\n",
    "        print(\"\")"
   ]
  },
  {
   "cell_type": "code",
   "execution_count": 8,
   "metadata": {},
   "outputs": [
    {
     "name": "stdout",
     "output_type": "stream",
     "text": [
      "###\n",
      "###\n",
      "###\n"
     ]
    }
   ],
   "source": [
    "prsq(3)"
   ]
  },
  {
   "cell_type": "code",
   "execution_count": null,
   "metadata": {},
   "outputs": [],
   "source": []
  }
 ],
 "metadata": {
  "kernelspec": {
   "display_name": "Python 3 (ipykernel)",
   "language": "python",
   "name": "python3"
  },
  "language_info": {
   "codemirror_mode": {
    "name": "ipython",
    "version": 3
   },
   "file_extension": ".py",
   "mimetype": "text/x-python",
   "name": "python",
   "nbconvert_exporter": "python",
   "pygments_lexer": "ipython3",
   "version": "3.8.10"
  }
 },
 "nbformat": 4,
 "nbformat_minor": 4
}
